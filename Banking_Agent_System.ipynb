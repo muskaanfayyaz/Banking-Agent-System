{
  "nbformat": 4,
  "nbformat_minor": 0,
  "metadata": {
    "colab": {
      "provenance": [],
      "authorship_tag": "ABX9TyNHxXW3kfO9q2iVMBQU58vB",
      "include_colab_link": true
    },
    "kernelspec": {
      "name": "python3",
      "display_name": "Python 3"
    },
    "language_info": {
      "name": "python"
    }
  },
  "cells": [
    {
      "cell_type": "markdown",
      "metadata": {
        "id": "view-in-github",
        "colab_type": "text"
      },
      "source": [
        "<a href=\"https://colab.research.google.com/github/muskaanfayyaz/Banking-Agent-System/blob/main/Banking_Agent_System.ipynb\" target=\"_parent\"><img src=\"https://colab.research.google.com/assets/colab-badge.svg\" alt=\"Open In Colab\"/></a>"
      ]
    },
    {
      "cell_type": "code",
      "execution_count": 1,
      "metadata": {
        "id": "S4fc4Mgy9lKW"
      },
      "outputs": [],
      "source": [
        "!pip install -Uq openai-agents\n",
        "!pip install -Uq openai openai-agents"
      ]
    },
    {
      "cell_type": "code",
      "source": [
        "import importlib.util\n",
        "print(importlib.util.find_spec(\"openai_agents\"))"
      ],
      "metadata": {
        "colab": {
          "base_uri": "https://localhost:8080/"
        },
        "id": "32ZtNXl4_RH7",
        "outputId": "0ce0cd1a-a25a-4fb6-cd5f-92ebecb0071f"
      },
      "execution_count": 2,
      "outputs": [
        {
          "output_type": "stream",
          "name": "stdout",
          "text": [
            "None\n"
          ]
        }
      ]
    },
    {
      "cell_type": "code",
      "source": [
        "from agents import Agent, Runner\n",
        "print(\"✅ openai_agents imported successfully!\")\n"
      ],
      "metadata": {
        "colab": {
          "base_uri": "https://localhost:8080/"
        },
        "id": "s7cYg1Y8_Wxj",
        "outputId": "ea76420f-c140-4fc0-d41c-e9f43ff5c11d"
      },
      "execution_count": 3,
      "outputs": [
        {
          "output_type": "stream",
          "name": "stdout",
          "text": [
            "✅ openai_agents imported successfully!\n"
          ]
        }
      ]
    },
    {
      "cell_type": "code",
      "source": [
        "import nest_asyncio\n",
        "nest_asyncio.apply()\n",
        "from google.colab import userdata\n",
        "\n",
        "GEMINI_API_KEY = userdata.get(\"GEMINI_API_KEY\")\n",
        "if not GEMINI_API_KEY:\n",
        "    raise ValueError(\"❌ No GEMINI_API_KEY found in Colab userdata. Go to Colab → Tools → Variables and set it.\")\n"
      ],
      "metadata": {
        "id": "9-g7GRye9rek"
      },
      "execution_count": 4,
      "outputs": []
    },
    {
      "cell_type": "code",
      "source": [
        "# =============================\n",
        "# Banking Agent System\n",
        "# =============================\n",
        "\n",
        "# Imports from the Agents SDK\n",
        "from agents import (\n",
        "    Agent,\n",
        "    Runner,\n",
        "    RunContextWrapper,\n",
        "    GuardrailFunctionOutput,\n",
        "    input_guardrail,\n",
        "    output_guardrail,\n",
        "    RunConfig,\n",
        "    AsyncOpenAI,\n",
        "    OpenAIChatCompletionsModel,\n",
        "    function_tool,\n",
        "    set_tracing_disabled\n",
        ")\n",
        "\n",
        "# Standard libraries\n",
        "from pydantic import BaseModel\n",
        "import asyncio\n",
        "import json\n",
        "\n",
        "# Disable tracing\n",
        "set_tracing_disabled(disabled=True)\n",
        "\n",
        "# ✅ Use Colab-stored GEMINI_API_KEY (set in first cell)\n",
        "if not GEMINI_API_KEY:\n",
        "    raise ValueError(\"❌ No GEMINI_API_KEY found in Colab userdata.\")\n",
        "\n",
        "# Create async OpenAI-compatible Gemini client\n",
        "client = AsyncOpenAI(\n",
        "    api_key=GEMINI_API_KEY,\n",
        "    base_url=\"https://generativelanguage.googleapis.com/v1beta/openai/\",\n",
        ")\n",
        "\n",
        "# Define model wrapper\n",
        "model = OpenAIChatCompletionsModel(\n",
        "    model=\"gemini-2.0-flash\",\n",
        "    openai_client=client\n",
        ")\n",
        "\n",
        "# Global config\n",
        "config = RunConfig(\n",
        "    model=model,\n",
        "    model_provider=client,\n",
        "    tracing_disabled=True\n",
        ")\n",
        "\n",
        "# =============================\n",
        "# Pydantic Models\n",
        "# =============================\n",
        "class UserInfo(BaseModel):\n",
        "    name: str\n",
        "    account_number: str\n",
        "    balance: float\n",
        "    pin: int\n",
        "\n",
        "class InputCheck(BaseModel):\n",
        "    is_bank_related: bool\n",
        "\n",
        "# =============================\n",
        "# Banking Agents\n",
        "# =============================\n",
        "deposit_agent = Agent(\n",
        "    name=\"Deposit Agent\",\n",
        "    instructions=\"You are a deposit agent. Help users with deposits.\",\n",
        "    model=model,\n",
        ")\n",
        "\n",
        "withdrawal_agent = Agent(\n",
        "    name=\"Withdrawal Agent\",\n",
        "    instructions=\"You are a withdrawal agent. Help users with withdrawals.\",\n",
        "    model=model,\n",
        ")\n",
        "\n",
        "balance_agent = Agent(\n",
        "    name=\"Balance Agent\",\n",
        "    instructions=\"You are a balance agent. Call get_user_info if balance is requested.\",\n",
        "    model=model,\n",
        ")\n",
        "\n",
        "# =============================\n",
        "# Guardrail Agents\n",
        "# =============================\n",
        "input_guardrail_agent = Agent(\n",
        "    name=\"Guardrail Agent\",\n",
        "    instructions=\"\"\"Return JSON: {\"is_bank_related\": true/false}.\n",
        "    True if user asks about banking/accounts/payments; otherwise false.\"\"\",\n",
        "    output_type=InputCheck,\n",
        "    model=model,\n",
        ")\n",
        "\n",
        "@input_guardrail\n",
        "async def banking_guardrail(\n",
        "    ctx: RunContextWrapper[None], agent: Agent, user_input: str\n",
        ") -> GuardrailFunctionOutput:\n",
        "    \"\"\"Blocks non-banking inputs.\"\"\"\n",
        "    res = await Runner.run(input_guardrail_agent, input=user_input, context=ctx.context, run_config=config)\n",
        "    final = getattr(res, \"final_output\", None)\n",
        "    is_bank = False\n",
        "\n",
        "    if isinstance(final, dict):\n",
        "        is_bank = bool(final.get(\"is_bank_related\", False))\n",
        "    elif hasattr(final, \"is_bank_related\"):\n",
        "        is_bank = bool(getattr(final, \"is_bank_related\"))\n",
        "    elif isinstance(final, str):\n",
        "        try:\n",
        "            parsed = json.loads(final)\n",
        "            if isinstance(parsed, dict):\n",
        "                is_bank = bool(parsed.get(\"is_bank_related\", False))\n",
        "        except Exception:\n",
        "            is_bank = any(k in user_input.lower() for k in [\"bank\", \"balance\", \"deposit\", \"withdrawal\", \"account\"])\n",
        "\n",
        "    return GuardrailFunctionOutput(output_info=user_input, tripwire_triggered=not is_bank)\n",
        "\n",
        "output_guardrail_agent = Agent(\n",
        "    name=\"Output Guardrail\",\n",
        "    instructions=\"Ensure response does not reveal sensitive info like PIN. Refuse if detected.\",\n",
        "    model=model,\n",
        ")\n",
        "\n",
        "@output_guardrail\n",
        "async def output_guardrail_fn(\n",
        "    ctx: RunContextWrapper[None], agent: Agent, output: str\n",
        ") -> GuardrailFunctionOutput:\n",
        "    \"\"\"Filters sensitive info like PIN.\"\"\"\n",
        "    res = await Runner.run(output_guardrail_agent, input=output, context=ctx.context, run_config=config)\n",
        "    final = getattr(res, \"final_output\", None)\n",
        "    return GuardrailFunctionOutput(output_info=str(final or \"\"), tripwire_triggered=False)\n",
        "\n",
        "# =============================\n",
        "# Tool: User Info\n",
        "# =============================\n",
        "user_data = UserInfo(name=\"Shahid\", account_number=\"42338734\", balance=10000.0, pin=9876)\n",
        "\n",
        "@function_tool\n",
        "async def get_user_info(ctx: RunContextWrapper[None]) -> dict:\n",
        "    \"\"\"Returns user account details.\"\"\"\n",
        "    return {\n",
        "        \"user_name\": user_data.name,\n",
        "        \"account_no\": user_data.account_number,\n",
        "        \"response\": f\"Your current balance is ${user_data.balance:.2f}\",\n",
        "    }\n",
        "\n",
        "# =============================\n",
        "# Main Agent\n",
        "# =============================\n",
        "main_agent = Agent(\n",
        "    name=\"Bank Agent\",\n",
        "    instructions=\"\"\"You are a helpful bank agent:\n",
        "    - Deposits -> handoff to Deposit Agent\n",
        "    - Withdrawals -> handoff to Withdrawal Agent\n",
        "    - Balance -> call get_user_info\n",
        "    Return concise text or JSON {user_name, account_no, response}\"\"\",\n",
        "    model=model,\n",
        "    handoffs=[deposit_agent, withdrawal_agent, balance_agent],\n",
        "    tools=[get_user_info],\n",
        "    input_guardrails=[banking_guardrail],\n",
        "    output_guardrails=[output_guardrail_fn],\n",
        ")\n",
        "\n",
        "# =============================\n",
        "# Runner Example\n",
        "# =============================\n",
        "async def main():\n",
        "    try:\n",
        "        q1 = \"what is my current balance?\"\n",
        "        q2 = \"i have to deposit but i forget my pin, please help.\"\n",
        "\n",
        "        print(f\"\\n🔹 Query 1: {q1}\")\n",
        "        r1 = await Runner.run(main_agent, input=q1, run_config=config)\n",
        "        print(\"👉 Final Output:\", r1.final_output)\n",
        "\n",
        "        print(f\"\\n🔹 Query 2: {q2}\")\n",
        "        r2 = await Runner.run(main_agent, input=q2, run_config=config)\n",
        "        print(\"👉 Final Output:\", r2.final_output)\n",
        "\n",
        "    except Exception as e:\n",
        "        print(f\"❌ Error: {e}\")\n",
        "\n",
        "# Run in Colab\n",
        "await main()\n"
      ],
      "metadata": {
        "colab": {
          "base_uri": "https://localhost:8080/"
        },
        "id": "sJWzbWXm-59u",
        "outputId": "a9762673-3fef-48a0-f725-de03364944ee"
      },
      "execution_count": 5,
      "outputs": [
        {
          "output_type": "stream",
          "name": "stdout",
          "text": [
            "\n",
            "🔹 Query 1: what is my current balance?\n",
            "👉 Final Output: {'user_name': 'Shahid', 'account_no': '42338734', 'response': 'Your current balance is $10000.00'}\n",
            "\n",
            "\n",
            "🔹 Query 2: i have to deposit but i forget my pin, please help.\n",
            "👉 Final Output: I can certainly help you with your deposit, but since you've forgotten your PIN, we'll need to verify your identity first. Could you please provide the following information:\n",
            "\n",
            "*   **Your full name:**\n",
            "*   **Your account number:**\n",
            "*   **Your date of birth:**\n",
            "*   **The last four digits of your Social Security number:**\n",
            "\n",
            "Once I have this information, I can help you reset your PIN or explore alternative deposit methods.\n",
            "\n"
          ]
        }
      ]
    }
  ]
}